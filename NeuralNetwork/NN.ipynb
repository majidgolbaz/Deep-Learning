{
  "cells": [
    {
      "cell_type": "code",
      "execution_count": 2,
      "metadata": {
        "id": "Wal41yy57odR"
      },
      "outputs": [],
      "source": [
        "import pandas as pd\n",
        "iris = pd.read_csv(\"iris-dataset.csv\")"
      ]
    },
    {
      "cell_type": "code",
      "execution_count": 3,
      "metadata": {
        "colab": {
          "base_uri": "https://localhost:8080/",
          "height": 206
        },
        "id": "_tRZipXk-dII",
        "outputId": "84305a9a-24ea-4d58-f89f-eca050609be1"
      },
      "outputs": [
        {
          "data": {
            "text/html": [
              "<div>\n",
              "<style scoped>\n",
              "    .dataframe tbody tr th:only-of-type {\n",
              "        vertical-align: middle;\n",
              "    }\n",
              "\n",
              "    .dataframe tbody tr th {\n",
              "        vertical-align: top;\n",
              "    }\n",
              "\n",
              "    .dataframe thead th {\n",
              "        text-align: right;\n",
              "    }\n",
              "</style>\n",
              "<table border=\"1\" class=\"dataframe\">\n",
              "  <thead>\n",
              "    <tr style=\"text-align: right;\">\n",
              "      <th></th>\n",
              "      <th>sepal.length</th>\n",
              "      <th>sepal.width</th>\n",
              "      <th>petal.length</th>\n",
              "      <th>petal.width</th>\n",
              "      <th>variety</th>\n",
              "    </tr>\n",
              "  </thead>\n",
              "  <tbody>\n",
              "    <tr>\n",
              "      <th>0</th>\n",
              "      <td>5.1</td>\n",
              "      <td>3.5</td>\n",
              "      <td>1.4</td>\n",
              "      <td>0.2</td>\n",
              "      <td>Setosa</td>\n",
              "    </tr>\n",
              "    <tr>\n",
              "      <th>1</th>\n",
              "      <td>4.9</td>\n",
              "      <td>3.0</td>\n",
              "      <td>1.4</td>\n",
              "      <td>0.2</td>\n",
              "      <td>Setosa</td>\n",
              "    </tr>\n",
              "    <tr>\n",
              "      <th>2</th>\n",
              "      <td>4.7</td>\n",
              "      <td>3.2</td>\n",
              "      <td>1.3</td>\n",
              "      <td>0.2</td>\n",
              "      <td>Setosa</td>\n",
              "    </tr>\n",
              "    <tr>\n",
              "      <th>3</th>\n",
              "      <td>4.6</td>\n",
              "      <td>3.1</td>\n",
              "      <td>1.5</td>\n",
              "      <td>0.2</td>\n",
              "      <td>Setosa</td>\n",
              "    </tr>\n",
              "    <tr>\n",
              "      <th>4</th>\n",
              "      <td>5.0</td>\n",
              "      <td>3.6</td>\n",
              "      <td>1.4</td>\n",
              "      <td>0.2</td>\n",
              "      <td>Setosa</td>\n",
              "    </tr>\n",
              "  </tbody>\n",
              "</table>\n",
              "</div>"
            ],
            "text/plain": [
              "   sepal.length  sepal.width  petal.length  petal.width variety\n",
              "0           5.1          3.5           1.4          0.2  Setosa\n",
              "1           4.9          3.0           1.4          0.2  Setosa\n",
              "2           4.7          3.2           1.3          0.2  Setosa\n",
              "3           4.6          3.1           1.5          0.2  Setosa\n",
              "4           5.0          3.6           1.4          0.2  Setosa"
            ]
          },
          "execution_count": 3,
          "metadata": {},
          "output_type": "execute_result"
        }
      ],
      "source": [
        "iris.head()"
      ]
    },
    {
      "cell_type": "code",
      "execution_count": 4,
      "metadata": {
        "id": "SP6Adn_Y-PF4"
      },
      "outputs": [],
      "source": [
        "x = iris.drop(\"variety\",axis=1).values"
      ]
    },
    {
      "cell_type": "code",
      "execution_count": 5,
      "metadata": {
        "id": "Oti9YV2G_ebg"
      },
      "outputs": [],
      "source": [
        "y = [0 if f == 'Setosa' else 1 if f =='Versicolor' else 2 for f in iris[\"variety\"]]\n"
      ]
    },
    {
      "cell_type": "code",
      "execution_count": 6,
      "metadata": {
        "id": "SAmmOVOt-rxx"
      },
      "outputs": [
        {
          "ename": "ModuleNotFoundError",
          "evalue": "No module named 'torch'",
          "output_type": "error",
          "traceback": [
            "\u001b[1;31m---------------------------------------------------------------------------\u001b[0m",
            "\u001b[1;31mModuleNotFoundError\u001b[0m                       Traceback (most recent call last)",
            "Cell \u001b[1;32mIn[6], line 1\u001b[0m\n\u001b[1;32m----> 1\u001b[0m \u001b[38;5;28;01mimport\u001b[39;00m \u001b[38;5;21;01mtorch\u001b[39;00m\n",
            "\u001b[1;31mModuleNotFoundError\u001b[0m: No module named 'torch'"
          ]
        }
      ],
      "source": [
        "import torch"
      ]
    },
    {
      "cell_type": "code",
      "execution_count": null,
      "metadata": {
        "id": "OhVtzsODA1kY"
      },
      "outputs": [],
      "source": [
        "x = torch.tensor(x,dtype= torch.float)"
      ]
    },
    {
      "cell_type": "code",
      "execution_count": null,
      "metadata": {
        "id": "-4JQhSJFBZrp"
      },
      "outputs": [],
      "source": [
        "y = torch.tensor(y,dtype= torch.long)"
      ]
    },
    {
      "cell_type": "code",
      "execution_count": null,
      "metadata": {
        "id": "QASvj8JEBkGx"
      },
      "outputs": [],
      "source": [
        "from sklearn.model_selection import train_test_split\n",
        "from torch.utils.data import TensorDataset, DataLoader"
      ]
    },
    {
      "cell_type": "code",
      "execution_count": null,
      "metadata": {
        "id": "JtqaTRwGB9Hx"
      },
      "outputs": [],
      "source": [
        "xTrain, xTest, yTrain, yTest = train_test_split(x,y,train_size=0.8)"
      ]
    },
    {
      "cell_type": "code",
      "execution_count": null,
      "metadata": {
        "id": "_tEcxGMDCQBC"
      },
      "outputs": [],
      "source": [
        "trainData = TensorDataset(xTrain,yTrain)\n",
        "testData = TensorDataset(xTest,yTest)"
      ]
    },
    {
      "cell_type": "code",
      "execution_count": null,
      "metadata": {
        "id": "IN3kx95pDn3B"
      },
      "outputs": [],
      "source": [
        "trainLoader = DataLoader(trainData,shuffle =True, batch_size= 10)\n",
        "testLoader =  DataLoader(testData, batch_size = len(testData.tensors[0]))"
      ]
    },
    {
      "cell_type": "code",
      "execution_count": null,
      "metadata": {
        "id": "V2gZIo-SFyxM"
      },
      "outputs": [],
      "source": [
        "import torch.nn as nn\n",
        "import torch.nn.functional as F"
      ]
    },
    {
      "cell_type": "code",
      "execution_count": null,
      "metadata": {
        "colab": {
          "base_uri": "https://localhost:8080/"
        },
        "id": "xIWc0ZXxGJkS",
        "outputId": "2e2bae79-6358-4d63-808f-e92fb7fc622b"
      },
      "outputs": [
        {
          "name": "stdout",
          "output_type": "stream",
          "text": [
            "myNeuralNet(\n",
            "  (input): Linear(in_features=4, out_features=16, bias=True)\n",
            "  (hidden): Linear(in_features=16, out_features=16, bias=True)\n",
            "  (output): Linear(in_features=16, out_features=3, bias=True)\n",
            ")\n"
          ]
        }
      ],
      "source": [
        "class myNeuralNet (nn.Module):\n",
        "  def __init__(self): #architecture\n",
        "    super().__init__()\n",
        "    self.input = nn.Linear(in_features = 4, out_features=16)\n",
        "    self.hidden = nn.Linear(in_features =16, out_features=16)\n",
        "    self.output = nn.Linear(in_features =16, out_features=3)\n",
        "\n",
        "  def forward(self,x): #forward propagation\n",
        "    l1 = F.relu(self.input(x))\n",
        "    l2 = F.relu(self.hidden(l1))\n",
        "    return self.output(l2)\n",
        "\n",
        "model = myNeuralNet()\n",
        "print(model)\n"
      ]
    },
    {
      "cell_type": "code",
      "execution_count": null,
      "metadata": {
        "id": "N5jvLSwfKai0"
      },
      "outputs": [],
      "source": [
        "# loss = nn.MSELoss() # (y-t)^2\n",
        "loss = nn.CrossEntropyLoss()\n",
        "optimizer = torch.optim.SGD(model.parameters(),lr =0.01)"
      ]
    },
    {
      "cell_type": "code",
      "execution_count": null,
      "metadata": {
        "colab": {
          "base_uri": "https://localhost:8080/"
        },
        "id": "VVwWCHNvL08j",
        "outputId": "9ac4b9c4-bbd5-4c24-b47a-41bf533c03bb"
      },
      "outputs": [
        {
          "name": "stdout",
          "output_type": "stream",
          "text": [
            "tensor(26.6667)\n",
            "tensor(26.6667)\n",
            "tensor(36.6667)\n",
            "tensor(66.6667)\n",
            "tensor(70.)\n",
            "tensor(70.)\n",
            "tensor(73.3333)\n",
            "tensor(73.3333)\n",
            "tensor(73.3333)\n",
            "tensor(73.3333)\n",
            "tensor(73.3333)\n",
            "tensor(73.3333)\n",
            "tensor(73.3333)\n",
            "tensor(73.3333)\n",
            "tensor(76.6667)\n",
            "tensor(80.)\n",
            "tensor(83.3333)\n",
            "tensor(80.)\n",
            "tensor(80.)\n",
            "tensor(80.)\n",
            "tensor(83.3333)\n",
            "tensor(90.)\n",
            "tensor(90.)\n",
            "tensor(93.3333)\n",
            "tensor(86.6667)\n",
            "tensor(90.)\n",
            "tensor(93.3333)\n",
            "tensor(96.6667)\n",
            "tensor(90.)\n",
            "tensor(90.)\n",
            "tensor(93.3333)\n",
            "tensor(93.3333)\n",
            "tensor(93.3333)\n",
            "tensor(100.)\n",
            "tensor(93.3333)\n",
            "tensor(96.6667)\n",
            "tensor(93.3333)\n",
            "tensor(93.3333)\n",
            "tensor(93.3333)\n",
            "tensor(93.3333)\n",
            "tensor(100.)\n",
            "tensor(100.)\n",
            "tensor(100.)\n",
            "tensor(93.3333)\n",
            "tensor(93.3333)\n",
            "tensor(100.)\n",
            "tensor(100.)\n",
            "tensor(100.)\n",
            "tensor(100.)\n",
            "tensor(96.6667)\n",
            "tensor(96.6667)\n",
            "tensor(93.3333)\n",
            "tensor(100.)\n",
            "tensor(93.3333)\n",
            "tensor(96.6667)\n",
            "tensor(93.3333)\n",
            "tensor(96.6667)\n",
            "tensor(100.)\n",
            "tensor(93.3333)\n",
            "tensor(93.3333)\n",
            "tensor(96.6667)\n",
            "tensor(93.3333)\n",
            "tensor(96.6667)\n",
            "tensor(93.3333)\n",
            "tensor(100.)\n",
            "tensor(96.6667)\n",
            "tensor(96.6667)\n",
            "tensor(100.)\n",
            "tensor(96.6667)\n",
            "tensor(96.6667)\n",
            "tensor(100.)\n",
            "tensor(100.)\n",
            "tensor(100.)\n",
            "tensor(96.6667)\n",
            "tensor(96.6667)\n",
            "tensor(96.6667)\n",
            "tensor(96.6667)\n",
            "tensor(93.3333)\n",
            "tensor(93.3333)\n",
            "tensor(93.3333)\n",
            "tensor(96.6667)\n",
            "tensor(96.6667)\n",
            "tensor(96.6667)\n",
            "tensor(96.6667)\n",
            "tensor(93.3333)\n",
            "tensor(96.6667)\n",
            "tensor(96.6667)\n",
            "tensor(100.)\n",
            "tensor(96.6667)\n",
            "tensor(93.3333)\n",
            "tensor(96.6667)\n",
            "tensor(96.6667)\n",
            "tensor(96.6667)\n",
            "tensor(96.6667)\n",
            "tensor(96.6667)\n",
            "tensor(96.6667)\n",
            "tensor(100.)\n",
            "tensor(100.)\n",
            "tensor(90.)\n",
            "tensor(93.3333)\n"
          ]
        }
      ],
      "source": [
        "num_epoch = 100\n",
        "\n",
        "for epoch in range(num_epoch):\n",
        "  for x ,y in trainLoader:\n",
        "    predictions = model(x)\n",
        "    L = loss(predictions,y)\n",
        "    L.backward()\n",
        "    optimizer.step()\n",
        "    optimizer.zero_grad()\n",
        "\n",
        "  x,y = next(iter(testLoader))\n",
        "  pred = torch.argmax(model(x),axis=1)\n",
        "  print(torch.mean((pred==y).float())*100)\n",
        "\n",
        "\n",
        "\n",
        "\n"
      ]
    }
  ],
  "metadata": {
    "colab": {
      "provenance": []
    },
    "kernelspec": {
      "display_name": "Python 3",
      "name": "python3"
    },
    "language_info": {
      "codemirror_mode": {
        "name": "ipython",
        "version": 3
      },
      "file_extension": ".py",
      "mimetype": "text/x-python",
      "name": "python",
      "nbconvert_exporter": "python",
      "pygments_lexer": "ipython3",
      "version": "3.11.8"
    }
  },
  "nbformat": 4,
  "nbformat_minor": 0
}
